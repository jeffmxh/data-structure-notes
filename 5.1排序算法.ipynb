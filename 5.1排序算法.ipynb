{
 "cells": [
  {
   "cell_type": "code",
   "execution_count": 1,
   "metadata": {
    "collapsed": false
   },
   "outputs": [
    {
     "name": "stdout",
     "output_type": "stream",
     "text": [
      "Splitting  [12, 24, 54, 34, 87, 56, 89]\n",
      "Splitting  [12, 24, 54]\n",
      "Splitting  [12]\n",
      "Merging  [12]\n",
      "Splitting  [24, 54]\n",
      "Splitting  [24]\n",
      "Merging  [24]\n",
      "Splitting  [54]\n",
      "Merging  [54]\n",
      "Merging  [24, 54]\n",
      "Merging  [12, 24, 54]\n",
      "Splitting  [34, 87, 56, 89]\n",
      "Splitting  [34, 87]\n",
      "Splitting  [34]\n",
      "Merging  [34]\n",
      "Splitting  [87]\n",
      "Merging  [87]\n",
      "Merging  [34, 87]\n",
      "Splitting  [56, 89]\n",
      "Splitting  [56]\n",
      "Merging  [56]\n",
      "Splitting  [89]\n",
      "Merging  [89]\n",
      "Merging  [56, 89]\n",
      "Merging  [34, 56, 87, 89]\n",
      "Merging  [12, 24, 34, 54, 56, 87, 89]\n",
      "[12, 24, 34, 54, 56, 87, 89]\n"
     ]
    }
   ],
   "source": [
    "# 归并排序\n",
    "\n",
    "def mergeSort(alist):\n",
    "    print(\"Splitting \", alist)\n",
    "    if len(alist) > 1:\n",
    "        mid = len(alist) // 2\n",
    "        lefthalf = alist[:mid]\n",
    "        righthalf = alist[mid:]\n",
    "        \n",
    "        mergeSort(lefthalf)\n",
    "        mergeSort(righthalf)\n",
    "        \n",
    "        i = j = k = 0\n",
    "        while i < len(lefthalf) and j < len(righthalf):\n",
    "            if lefthalf[i] < righthalf[j]:\n",
    "                alist[k] = lefthalf[i]\n",
    "                i = i + 1\n",
    "            else:\n",
    "                alist[k] = righthalf[j]\n",
    "                j = j + 1\n",
    "            k = k + 1\n",
    "        \n",
    "        while i < len(lefthalf):\n",
    "            alist[k] = lefthalf[i]\n",
    "            i = i + 1\n",
    "            k = k + 1\n",
    "            \n",
    "        while j < len(righthalf):\n",
    "            alist[k] = righthalf[j]\n",
    "            j = j + 1\n",
    "            k = k + 1\n",
    "    print(\"Merging \", alist)\n",
    "    \n",
    "alist = [12, 24, 54, 34, 87, 56, 89]\n",
    "mergeSort(alist)\n",
    "print(alist)"
   ]
  },
  {
   "cell_type": "code",
   "execution_count": 2,
   "metadata": {
    "collapsed": false
   },
   "outputs": [
    {
     "name": "stdout",
     "output_type": "stream",
     "text": [
      "[17, 20, 26, 31, 44, 54, 55, 77, 93]\n"
     ]
    }
   ],
   "source": [
    "# 快速排序\n",
    "\n",
    "def quickSort(alist):\n",
    "    quickSortHelper(alist, 0, len(alist)-1)\n",
    "    \n",
    "def quickSortHelper(alist, first, last):\n",
    "    if first < last:\n",
    "        splitpoint = partition(alist, first, last)\n",
    "        \n",
    "        quickSortHelper(alist, first, splitpoint-1)\n",
    "        quickSortHelper(alist, splitpoint+1, last)\n",
    "        \n",
    "def partition(alist, first, last):\n",
    "    pivotvalue = alist[first]\n",
    "    \n",
    "    leftmark = first + 1\n",
    "    rightmark = last\n",
    "    \n",
    "    done = False\n",
    "    while not done:\n",
    "        while leftmark <= rightmark and alist[leftmark] <= pivotvalue:\n",
    "            leftmark = leftmark + 1\n",
    "            \n",
    "        while leftmark <= rightmark and alist[rightmark] >= pivotvalue:\n",
    "            rightmark = rightmark - 1\n",
    "            \n",
    "        if rightmark < leftmark:\n",
    "            done = True\n",
    "        else:\n",
    "            alist[leftmark], alist[rightmark] = alist[rightmark], alist[leftmark]\n",
    "            \n",
    "    alist[first], alist[rightmark] = alist[rightmark], alist[first]\n",
    "    return rightmark\n",
    "\n",
    "alist = [54, 26, 93, 17, 77, 31, 44, 55, 20]\n",
    "quickSort(alist)\n",
    "print(alist)"
   ]
  },
  {
   "cell_type": "code",
   "execution_count": 3,
   "metadata": {
    "collapsed": false
   },
   "outputs": [
    {
     "name": "stdout",
     "output_type": "stream",
     "text": [
      "After increments of size 4 The list is [20, 26, 44, 17, 54, 31, 93, 55, 77]\n",
      "After increments of size 2 The list is [20, 17, 44, 26, 54, 31, 77, 55, 93]\n",
      "After increments of size 1 The list is [17, 20, 26, 31, 44, 54, 55, 77, 93]\n",
      "[17, 20, 26, 31, 44, 54, 55, 77, 93]\n"
     ]
    }
   ],
   "source": [
    "# 希尔排序\n",
    "\n",
    "def shellSort(alist):\n",
    "    sublistcount = len(alist) // 2\n",
    "    while sublistcount > 0:\n",
    "        for startposition in range(sublistcount):\n",
    "            gapInsertionSort(alist, startposition, sublistcount)\n",
    "        print(\"After increments of size\", sublistcount, \"The list is\", alist)\n",
    "        sublistcount = sublistcount // 2\n",
    "        \n",
    "def gapInsertionSort(alist, start, gap):\n",
    "    for i in range(start+gap, len(alist), gap):\n",
    "        currentvalue = alist[i]\n",
    "        position = i\n",
    "        \n",
    "        while position >= gap and alist[position-gap] > currentvalue:\n",
    "            alist[position] = alist[position-gap]\n",
    "            position = position - gap\n",
    "        alist[position] = currentvalue\n",
    "        \n",
    "alist = [54, 26, 93, 17, 77, 31, 44, 55, 20]\n",
    "shellSort(alist)\n",
    "print(alist)"
   ]
  }
 ],
 "metadata": {
  "kernelspec": {
   "display_name": "Python [default]",
   "language": "python",
   "name": "python3"
  },
  "language_info": {
   "codemirror_mode": {
    "name": "ipython",
    "version": 3
   },
   "file_extension": ".py",
   "mimetype": "text/x-python",
   "name": "python",
   "nbconvert_exporter": "python",
   "pygments_lexer": "ipython3",
   "version": "3.5.2"
  }
 },
 "nbformat": 4,
 "nbformat_minor": 2
}

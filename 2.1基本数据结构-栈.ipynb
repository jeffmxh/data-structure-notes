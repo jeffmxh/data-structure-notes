{
 "cells": [
  {
   "cell_type": "code",
   "execution_count": 1,
   "metadata": {
    "collapsed": true
   },
   "outputs": [],
   "source": [
    "# 2.1 栈的实现\n",
    "\n",
    "'''\n",
    "Stack():创建一个空的栈\n",
    "push(item):将一个新项目加入栈的顶部\n",
    "pop():删除栈顶部的项\n",
    "peek():从栈返回顶部\n",
    "isEmpty():判定栈是否为空\n",
    "size():返回栈中item数量\n",
    "'''\n",
    "class Stack():\n",
    "    def __init__(self):\n",
    "        self.items = []\n",
    "        \n",
    "    def push(self, item):\n",
    "        self.items.append(item)\n",
    "        \n",
    "    def pop(self):\n",
    "        return self.items.pop()\n",
    "        \n",
    "    def isEmpty(self):\n",
    "        return self.items == []\n",
    "    \n",
    "    def peek(self):\n",
    "        if self.items != []:\n",
    "            return self.items[-1]\n",
    "        else:\n",
    "            return None\n",
    "    \n",
    "    @property\n",
    "    def size(self):\n",
    "        return len(self.items)\n",
    "    \n",
    "    @property\n",
    "    def show(self):\n",
    "        print(self.items)"
   ]
  },
  {
   "cell_type": "code",
   "execution_count": 2,
   "metadata": {},
   "outputs": [
    {
     "name": "stdout",
     "output_type": "stream",
     "text": [
      "[]\n",
      "[0, 'apple']\n",
      "False\n",
      "[0]\n",
      "0\n",
      "1\n"
     ]
    }
   ],
   "source": [
    "a = Stack()\n",
    "a.show\n",
    "a.push(0)\n",
    "a.push('apple')\n",
    "a.show\n",
    "print(a.isEmpty())\n",
    "a.pop()\n",
    "a.show\n",
    "print(a.peek())\n",
    "print(a.size)"
   ]
  },
  {
   "cell_type": "code",
   "execution_count": 3,
   "metadata": {},
   "outputs": [
    {
     "name": "stdout",
     "output_type": "stream",
     "text": [
      "True\n",
      "False\n"
     ]
    }
   ],
   "source": [
    "# 栈的应用一：括号配对检查\n",
    "\n",
    "def parChecker(symbolString):\n",
    "    s = Stack()\n",
    "    balanced = True\n",
    "    index = 0\n",
    "    while index < len(symbolString) and balanced:\n",
    "        symbol = symbolString[index]\n",
    "        if symbol == \"(\":\n",
    "            s.push(symbol)\n",
    "        else:\n",
    "            if s.isEmpty():\n",
    "                balanced = False\n",
    "            else:\n",
    "                s.pop()\n",
    "        index += 1\n",
    "    if balanced and s.isEmpty():\n",
    "        return True\n",
    "    else:\n",
    "        return False\n",
    "    \n",
    "print(parChecker(\"((()))\"))\n",
    "print(parChecker(\"()()(()\"))"
   ]
  },
  {
   "cell_type": "code",
   "execution_count": 4,
   "metadata": {},
   "outputs": [
    {
     "name": "stdout",
     "output_type": "stream",
     "text": [
      "True\n",
      "True\n",
      "False\n"
     ]
    }
   ],
   "source": [
    "# 栈的应用二：多种括号配对检查\n",
    "\n",
    "def parChecker(symbolString):\n",
    "    s = Stack()\n",
    "    balanced = True\n",
    "    index = 0\n",
    "    while index < len(symbolString) and balanced:\n",
    "        symbol = symbolString[index]\n",
    "        if symbol in \"([{\":\n",
    "            s.push(symbol)\n",
    "        elif symbol in \"}])\":\n",
    "            if s.isEmpty():\n",
    "                balanced = False\n",
    "            elif matches(s.peek(), symbol):\n",
    "                s.pop()\n",
    "            else:\n",
    "                balanced = False\n",
    "        index += 1\n",
    "    if balanced and s.isEmpty():\n",
    "        return True\n",
    "    else:\n",
    "        return False\n",
    "\n",
    "def matches(left, right):\n",
    "    lefts = \"([{\"\n",
    "    rights = \")]}\"\n",
    "    return lefts.index(left) == rights.index(right)\n",
    "\n",
    "print(parChecker(\"{[()]}\"))\n",
    "print(parChecker(\"{a[sdf(c)sd]}\"))\n",
    "print(parChecker(\"(]()(()\"))"
   ]
  },
  {
   "cell_type": "code",
   "execution_count": 5,
   "metadata": {},
   "outputs": [
    {
     "name": "stdout",
     "output_type": "stream",
     "text": [
      "110010\n"
     ]
    }
   ],
   "source": [
    "# 栈的应用三：进制转化\n",
    "\n",
    "def divideBy2(decNumber):\n",
    "    remstack = Stack()\n",
    "    \n",
    "    while decNumber > 0:\n",
    "        rem = decNumber % 2\n",
    "        remstack.push(rem)\n",
    "        decNumber = decNumber // 2\n",
    "    \n",
    "    binString = \"\"\n",
    "    while not remstack.isEmpty():\n",
    "        binString = binString + str(remstack.pop())\n",
    "    \n",
    "    return binString\n",
    "\n",
    "print(divideBy2(50))"
   ]
  }
 ],
 "metadata": {
  "kernelspec": {
   "display_name": "Python 3",
   "language": "python",
   "name": "python3"
  },
  "language_info": {
   "codemirror_mode": {
    "name": "ipython",
    "version": 3
   },
   "file_extension": ".py",
   "mimetype": "text/x-python",
   "name": "python",
   "nbconvert_exporter": "python",
   "pygments_lexer": "ipython3",
   "version": "3.6.3"
  }
 },
 "nbformat": 4,
 "nbformat_minor": 2
}

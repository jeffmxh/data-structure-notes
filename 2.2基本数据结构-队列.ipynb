{
 "cells": [
  {
   "cell_type": "code",
   "execution_count": 1,
   "metadata": {
    "collapsed": true
   },
   "outputs": [],
   "source": [
    "# 2.2 队列的实现\n",
    "\n",
    "'''\n",
    "Queue():创建一个空的新队列\n",
    "enqueue(item):将新项目加到队尾\n",
    "dequeue():从队首移除项并返回\n",
    "isEmpty():判断队列是否为空\n",
    "size():返回队列项数\n",
    "'''\n",
    "\n",
    "class Queue():\n",
    "    def __init__(self):\n",
    "        self.items = []\n",
    "    \n",
    "    def enqueue(self, item):\n",
    "        self.items.insert(0, item)\n",
    "        \n",
    "    def dequeue(self):\n",
    "        return self.items.pop()\n",
    "    \n",
    "    def isEmpty(self):\n",
    "        return self.items == []\n",
    "    \n",
    "    def size(self):\n",
    "        return len(self.items)\n",
    "    \n",
    "    @property\n",
    "    def show(self):\n",
    "        print(self.items)"
   ]
  },
  {
   "cell_type": "code",
   "execution_count": 2,
   "metadata": {},
   "outputs": [
    {
     "name": "stdout",
     "output_type": "stream",
     "text": [
      "['a', 10]\n",
      "['a']\n",
      "False\n"
     ]
    }
   ],
   "source": [
    "a = Queue()\n",
    "a.enqueue(10)\n",
    "a.enqueue('a')\n",
    "a.show\n",
    "a.dequeue()\n",
    "a.show\n",
    "print(a.isEmpty())"
   ]
  },
  {
   "cell_type": "code",
   "execution_count": 3,
   "metadata": {},
   "outputs": [
    {
     "name": "stdout",
     "output_type": "stream",
     "text": [
      "Susan\n"
     ]
    }
   ],
   "source": [
    "# 队列的应用一：烫手山芋/约瑟夫问题\n",
    "\n",
    "def hotPotato(namelist, num):\n",
    "    simqueue = Queue()\n",
    "    for name in namelist:\n",
    "        simqueue.enqueue(name)\n",
    "    \n",
    "    while simqueue.size() > 1:\n",
    "        for i in range(num):\n",
    "            simqueue.enqueue(simqueue.dequeue())\n",
    "        \n",
    "        simqueue.dequeue()\n",
    "    return simqueue.dequeue()\n",
    "\n",
    "print(hotPotato([\"Bill\", \"David\", \"Susan\", \"Jane\", \"Kent\", \"Brad\"], 7))"
   ]
  },
  {
   "cell_type": "code",
   "execution_count": 4,
   "metadata": {},
   "outputs": [
    {
     "name": "stdout",
     "output_type": "stream",
     "text": [
      "----------Testing for 10 pages per minute----------\n",
      "Average Wait  15.29 secs   0 tasks remaining.\n",
      "Average Wait  31.00 secs   1 tasks remaining.\n",
      "Average Wait  15.38 secs   0 tasks remaining.\n",
      "Average Wait  40.52 secs   0 tasks remaining.\n",
      "Average Wait   2.84 secs   0 tasks remaining.\n",
      "Average Wait   2.00 secs   0 tasks remaining.\n",
      "Average Wait  65.07 secs   0 tasks remaining.\n",
      "Average Wait   4.92 secs   0 tasks remaining.\n",
      "Average Wait  27.52 secs   0 tasks remaining.\n",
      "Average Wait  43.83 secs   0 tasks remaining.\n",
      "----------Testing for 5 pages per minute----------\n",
      "Average Wait  63.67 secs   1 tasks remaining.\n",
      "Average Wait  92.20 secs   0 tasks remaining.\n",
      "Average Wait  28.08 secs   2 tasks remaining.\n",
      "Average Wait  86.86 secs   2 tasks remaining.\n",
      "Average Wait  50.29 secs   0 tasks remaining.\n",
      "Average Wait 595.57 secs   0 tasks remaining.\n",
      "Average Wait  56.57 secs   0 tasks remaining.\n",
      "Average Wait 106.95 secs   1 tasks remaining.\n",
      "Average Wait 223.71 secs   0 tasks remaining.\n",
      "Average Wait 149.00 secs   0 tasks remaining.\n"
     ]
    }
   ],
   "source": [
    "# 队列的应用二：打印机问题\n",
    "\n",
    "'''\n",
    "背景：\n",
    "实验室有10名学生，一小时平均每人打印两次，打印任务长度1-20页不等，打印机\n",
    "低质量打印每分钟10页，高质量每分钟5页，那么应该使用哪种打印速度？\n",
    "每个任务平均间隔为 60 * 60 / 20 = 180s\n",
    "'''\n",
    "\n",
    "import random\n",
    "\n",
    "class Printer:\n",
    "    def __init__(self, ppm):\n",
    "        self.pagerate = ppm\n",
    "        self.currentTask = None\n",
    "        self.timeRemaining = 0\n",
    "        \n",
    "    def tick(self):\n",
    "        if self.currentTask != None:\n",
    "            self.timeRemaining = self.timeRemaining - 1\n",
    "            if self.timeRemaining <= 0:\n",
    "                self.currentTask = None\n",
    "                \n",
    "    def busy(self):\n",
    "        if self.currentTask != None:\n",
    "            return True\n",
    "        else:\n",
    "            return False\n",
    "        \n",
    "    def startNext(self, newTask):\n",
    "        self.currentTask = newTask\n",
    "        self.timeRemaining = newTask.getPages() * 60 / self.pagerate\n",
    "        \n",
    "class Task:\n",
    "    def __init__(self, time):\n",
    "        self.timestamp = time\n",
    "        self.pages = random.randrange(1, 21)\n",
    "        \n",
    "    def getStamp(self):\n",
    "        return self.timestamp\n",
    "    \n",
    "    def getPages(self):\n",
    "        return self.pages\n",
    "    \n",
    "    def waitTime(self, currenttime):\n",
    "        return currenttime - self.timestamp\n",
    "    \n",
    "def simulation(numSeconds, pagesPerMinute):\n",
    "    labprinter = Printer(pagesPerMinute)\n",
    "    printQueue = Queue()\n",
    "    waitingtimes = []\n",
    "    \n",
    "    for currentSecond in range(numSeconds):\n",
    "        if newPrintTask():\n",
    "            task = Task(currentSecond)\n",
    "            printQueue.enqueue(task)\n",
    "        if (not labprinter.busy()) and (not printQueue.isEmpty()):\n",
    "            nexttask = printQueue.dequeue()\n",
    "            waitingtimes.append(nexttask.waitTime(currentSecond))\n",
    "            labprinter.startNext(nexttask)\n",
    "        labprinter.tick()\n",
    "        \n",
    "    averageWait = sum(waitingtimes) / len(waitingtimes)\n",
    "    print(\"Average Wait %6.2f secs %3d tasks remaining.\" % (averageWait, printQueue.size()))\n",
    "    \n",
    "def newPrintTask():\n",
    "    num = random.randrange(1, 181)\n",
    "    if num == 180:\n",
    "        return True\n",
    "    else:\n",
    "        return False\n",
    "\n",
    "print(\"----------Testing for 10 pages per minute----------\")\n",
    "for i in range(10):\n",
    "    simulation(3600, 10)\n",
    "    \n",
    "print(\"----------Testing for 5 pages per minute----------\")\n",
    "for i in range(10):\n",
    "    simulation(3600, 5)"
   ]
  }
 ],
 "metadata": {
  "kernelspec": {
   "display_name": "Python 3",
   "language": "python",
   "name": "python3"
  },
  "language_info": {
   "codemirror_mode": {
    "name": "ipython",
    "version": 3
   },
   "file_extension": ".py",
   "mimetype": "text/x-python",
   "name": "python",
   "nbconvert_exporter": "python",
   "pygments_lexer": "ipython3",
   "version": "3.6.3"
  }
 },
 "nbformat": 4,
 "nbformat_minor": 2
}
